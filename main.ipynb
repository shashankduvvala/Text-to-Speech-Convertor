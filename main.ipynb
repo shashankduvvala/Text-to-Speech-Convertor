{
 "cells": [
  {
   "cell_type": "code",
   "execution_count": 1,
   "id": "85361533",
   "metadata": {},
   "outputs": [],
   "source": [
    "import tkinter as tk\n",
    "from tkinter import *\n",
    "from tkinter import filedialog\n",
    "from tkinter.ttk import Combobox\n",
    "import pyttsx3\n",
    "from gtts import gTTS\n",
    "from playsound import playsound"
   ]
  },
  {
   "cell_type": "code",
   "execution_count": 2,
   "id": "9ee707c6",
   "metadata": {},
   "outputs": [],
   "source": [
    "root = Tk()\n",
    "root.title(\"Text to Speech converter\")\n",
    "root.geometry(\"1000x580+200+80\")\n",
    "root.resizable(False,False)\n",
    "root.configure(bg=\"#F7AC40\")\n",
    "#root.mainloop()"
   ]
  },
  {
   "cell_type": "code",
   "execution_count": null,
   "id": "cc9483c8",
   "metadata": {},
   "outputs": [],
   "source": [
    "logo_image = PhotoImage(file = \"C:/Users/download.png\" )\n",
    "root.iconphoto(False, logo_image)\n",
    "#root.mainloop()"
   ]
  },
  {
   "cell_type": "code",
   "execution_count": null,
   "id": "e29c1dd8",
   "metadata": {},
   "outputs": [],
   "source": [
    "upper_frame = Frame(root, bg=\"#14A7DD\" , width=1200, height=130)\n",
    "upper_frame.place(x=0,y=0)\n",
    "picture = PhotoImage(file = \"C:/Users/download.png\")\n",
    "Label(upper_frame, image= picture , bg=\"#14A7DD\").place(x=100, y=20)\n",
    "#root.mainloop()"
   ]
  },
  {
   "cell_type": "code",
   "execution_count": 5,
   "id": "a1ef5ba5",
   "metadata": {},
   "outputs": [],
   "source": [
    "Label(upper_frame,text=\"Text to Speech convertor\", font=\"TimesNewroman 40 bold\",bg=\"#14A7DD\",fg='white').place(x=250,y=35)\n",
    "#root.mainloop()"
   ]
  },
  {
   "cell_type": "code",
   "execution_count": 6,
   "id": "d56108f3",
   "metadata": {},
   "outputs": [],
   "source": [
    "text_box= Text(root, font=\"calibri 20\",bg=\"white\",relief= GROOVE,wrap=WORD,bd=0)\n",
    "text_box.place(x=30,y=150,width=940,height=180)\n",
    "#root.mainloop()"
   ]
  },
  {
   "cell_type": "code",
   "execution_count": null,
   "id": "54d24c2a",
   "metadata": {},
   "outputs": [],
   "source": [
    "gender_box = Combobox(root, values=['Male','Female'],font = \"Roboto 12\" , state='r' , width=12)\n",
    "gender_box.place(x=340,y=400)\n",
    "gender_box.set('Male')\n",
    "#root.mainloop()"
   ]
  },
  {
   "cell_type": "code",
   "execution_count": 8,
   "id": "c7602b3e",
   "metadata": {},
   "outputs": [],
   "source": [
    "speed_box = Combobox(root, values=['Fast','Medium','Slow'],font = \"Roboto 12\" , state='r' , width=12)\n",
    "speed_box.place(x=540,y=400)\n",
    "speed_box.set('Medium')\n",
    "#root.mainloop()"
   ]
  },
  {
   "cell_type": "code",
   "execution_count": null,
   "id": "70bbcb6f",
   "metadata": {},
   "outputs": [],
   "source": [
    "Label(root, text=\"Select Voice\", font=\"TimesNewRoman 15 bold\" , bg=\"#F7AC40\", fg=\"White\").place(x=340,y=370)\n",
    "Label(root, text=\"Select Speed\", font=\"TimesNewRoman 15 bold\" , bg=\"#F7AC40\", fg=\"White\").place(x=540,y=370)\n",
    "#root.mainloop()"
   ]
  },
  {
   "cell_type": "code",
   "execution_count": 10,
   "id": "a1a308f3",
   "metadata": {},
   "outputs": [],
   "source": [
    "tts=pyttsx3.init()\n",
    "def speaknow():\n",
    "    text = text_box.get(1.0, END)\n",
    "    gender =gender_box.get()\n",
    "    speed = speed_box.get()\n",
    "    voices = tts.getProperty('voices')\n",
    "    \n",
    "    def setvoice():\n",
    "        if(gender=='Male'):\n",
    "            tts.setProperty('voice',voices[0].id)\n",
    "            tts.say(text)\n",
    "            tts.runAndWait()\n",
    "        else :\n",
    "            tts.setProperty('voice',voices[1].id)\n",
    "            tts.say(text)\n",
    "            tts.runAndWait()\n",
    "    if(text):\n",
    "        if(speed=='Fast'):\n",
    "            tts.setProperty('rate',250)\n",
    "            setvoice()\n",
    "        elif(speed=='Medium'):\n",
    "            tts.setProperty('rate',150)\n",
    "            setvoice()\n",
    "        else:\n",
    "            tts.setProperty('rate',60)\n",
    "            setvoice()"
   ]
  },
  {
   "cell_type": "code",
   "execution_count": null,
   "id": "c6b387b8",
   "metadata": {},
   "outputs": [],
   "source": [
    "play_button=PhotoImage(file = \"C:/Users/play1.png\" )\n",
    "play_btn =  Button(root, text=\"Play\" , compound= LEFT , image=play_button, bg='White',width=130,font=\"arial 14 bold\" ,borderwidth= '0.1c',command=speaknow)\n",
    "play_btn.place(x=450,y=450)\n",
    "root.mainloop()"
   ]
  },
  {
   "cell_type": "code",
   "execution_count": null,
   "id": "e4d2515b",
   "metadata": {},
   "outputs": [],
   "source": []
  }
 ],
 "metadata": {
  "kernelspec": {
   "display_name": "Python 3 (ipykernel)",
   "language": "python",
   "name": "python3"
  },
  "language_info": {
   "codemirror_mode": {
    "name": "ipython",
    "version": 3
   },
   "file_extension": ".py",
   "mimetype": "text/x-python",
   "name": "python",
   "nbconvert_exporter": "python",
   "pygments_lexer": "ipython3",
   "version": "3.11.5"
  }
 },
 "nbformat": 4,
 "nbformat_minor": 5
}
